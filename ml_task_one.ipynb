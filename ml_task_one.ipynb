{
 "cells": [
  {
   "metadata": {},
   "cell_type": "markdown",
   "source": [
    "# ML Task One: Linear Regression\n",
    "## Problem Definition:\n",
    "- Use the provided **Nairobi Office Price Ex** dataset with **one feature (office size)** and **one target (office price)**.\n",
    "- Two python functions:\n",
    "    - MSE: Performance Measure Technique\n",
    "    - Gradient Descent: Learning Algorithm (update weights)\n",
    "- Train an intelligent linear regression model (10 epochs):\n",
    "    - Show the *error* in every epoch\n",
    "    - Plot line of best fit after the **final epoch**\n",
    "- Predict the **office price** given the **size in sq. ft.** is **100**"
   ],
   "id": "9cfba87a9fb94952"
  },
  {
   "metadata": {},
   "cell_type": "markdown",
   "source": "1. Importing required libraries:",
   "id": "3a81a7988297a220"
  },
  {
   "metadata": {
    "ExecuteTime": {
     "end_time": "2024-10-25T07:56:19.341531Z",
     "start_time": "2024-10-25T07:56:13.709893Z"
    }
   },
   "cell_type": "code",
   "source": [
    "import pandas as pd\n",
    "import numpy as np\n",
    "import matplotlib.pyplot as plt"
   ],
   "id": "c289b20fcc237c6",
   "outputs": [],
   "execution_count": 5
  },
  {
   "metadata": {},
   "cell_type": "markdown",
   "source": "2. Reading the dataset:",
   "id": "366a1586f61621da"
  },
  {
   "cell_type": "code",
   "id": "initial_id",
   "metadata": {
    "collapsed": true,
    "ExecuteTime": {
     "end_time": "2024-10-25T07:58:42.168410Z",
     "start_time": "2024-10-25T07:58:41.917Z"
    }
   },
   "source": [
    "df = pd.read_csv(\"Nairobi Office Price Ex.csv\")\n",
    "df.head()"
   ],
   "outputs": [
    {
     "data": {
      "text/plain": [
       "        LOC  FUR          AMB PROX_SCH PROX_ROAD PROX_MALL WATER HK_SER  \\\n",
       "0     karen  yes       serene       no       yes       yes   yes    yes   \n",
       "1  madaraka  yes  semi_serene      yes       yes       yes    no     no   \n",
       "2     karen   no        noisy       no       yes       yes   yes    yes   \n",
       "3     karen  yes  semi_serene       no        no        no   yes    yes   \n",
       "4  buruburu   no  semi_serene       no       yes       yes   yes    yes   \n",
       "\n",
       "        SIZE      PRICE  \n",
       "0  32.502345  31.707006  \n",
       "1  53.426804  68.777596  \n",
       "2  61.530358  62.562382  \n",
       "3  47.475640  71.546632  \n",
       "4  59.813208  87.230925  "
      ],
      "text/html": [
       "<div>\n",
       "<style scoped>\n",
       "    .dataframe tbody tr th:only-of-type {\n",
       "        vertical-align: middle;\n",
       "    }\n",
       "\n",
       "    .dataframe tbody tr th {\n",
       "        vertical-align: top;\n",
       "    }\n",
       "\n",
       "    .dataframe thead th {\n",
       "        text-align: right;\n",
       "    }\n",
       "</style>\n",
       "<table border=\"1\" class=\"dataframe\">\n",
       "  <thead>\n",
       "    <tr style=\"text-align: right;\">\n",
       "      <th></th>\n",
       "      <th>LOC</th>\n",
       "      <th>FUR</th>\n",
       "      <th>AMB</th>\n",
       "      <th>PROX_SCH</th>\n",
       "      <th>PROX_ROAD</th>\n",
       "      <th>PROX_MALL</th>\n",
       "      <th>WATER</th>\n",
       "      <th>HK_SER</th>\n",
       "      <th>SIZE</th>\n",
       "      <th>PRICE</th>\n",
       "    </tr>\n",
       "  </thead>\n",
       "  <tbody>\n",
       "    <tr>\n",
       "      <th>0</th>\n",
       "      <td>karen</td>\n",
       "      <td>yes</td>\n",
       "      <td>serene</td>\n",
       "      <td>no</td>\n",
       "      <td>yes</td>\n",
       "      <td>yes</td>\n",
       "      <td>yes</td>\n",
       "      <td>yes</td>\n",
       "      <td>32.502345</td>\n",
       "      <td>31.707006</td>\n",
       "    </tr>\n",
       "    <tr>\n",
       "      <th>1</th>\n",
       "      <td>madaraka</td>\n",
       "      <td>yes</td>\n",
       "      <td>semi_serene</td>\n",
       "      <td>yes</td>\n",
       "      <td>yes</td>\n",
       "      <td>yes</td>\n",
       "      <td>no</td>\n",
       "      <td>no</td>\n",
       "      <td>53.426804</td>\n",
       "      <td>68.777596</td>\n",
       "    </tr>\n",
       "    <tr>\n",
       "      <th>2</th>\n",
       "      <td>karen</td>\n",
       "      <td>no</td>\n",
       "      <td>noisy</td>\n",
       "      <td>no</td>\n",
       "      <td>yes</td>\n",
       "      <td>yes</td>\n",
       "      <td>yes</td>\n",
       "      <td>yes</td>\n",
       "      <td>61.530358</td>\n",
       "      <td>62.562382</td>\n",
       "    </tr>\n",
       "    <tr>\n",
       "      <th>3</th>\n",
       "      <td>karen</td>\n",
       "      <td>yes</td>\n",
       "      <td>semi_serene</td>\n",
       "      <td>no</td>\n",
       "      <td>no</td>\n",
       "      <td>no</td>\n",
       "      <td>yes</td>\n",
       "      <td>yes</td>\n",
       "      <td>47.475640</td>\n",
       "      <td>71.546632</td>\n",
       "    </tr>\n",
       "    <tr>\n",
       "      <th>4</th>\n",
       "      <td>buruburu</td>\n",
       "      <td>no</td>\n",
       "      <td>semi_serene</td>\n",
       "      <td>no</td>\n",
       "      <td>yes</td>\n",
       "      <td>yes</td>\n",
       "      <td>yes</td>\n",
       "      <td>yes</td>\n",
       "      <td>59.813208</td>\n",
       "      <td>87.230925</td>\n",
       "    </tr>\n",
       "  </tbody>\n",
       "</table>\n",
       "</div>"
      ]
     },
     "execution_count": 6,
     "metadata": {},
     "output_type": "execute_result"
    }
   ],
   "execution_count": 6
  },
  {
   "metadata": {},
   "cell_type": "markdown",
   "source": "- Extracting size (feature) and price (target):",
   "id": "2cc3fa068609c1f2"
  },
  {
   "metadata": {
    "ExecuteTime": {
     "end_time": "2024-10-25T07:58:44.845644Z",
     "start_time": "2024-10-25T07:58:44.840899Z"
    }
   },
   "cell_type": "code",
   "source": [
    "x = df[\"SIZE\"].values\n",
    "y = df[\"PRICE\"].values"
   ],
   "id": "53290a403f2bed56",
   "outputs": [],
   "execution_count": 7
  },
  {
   "metadata": {},
   "cell_type": "markdown",
   "source": "- Feature (Size):",
   "id": "291bedbd188f4de9"
  },
  {
   "metadata": {
    "ExecuteTime": {
     "end_time": "2024-10-25T07:58:49.028850Z",
     "start_time": "2024-10-25T07:58:49.022648Z"
    }
   },
   "cell_type": "code",
   "source": "x",
   "id": "3eb69d5f90d15751",
   "outputs": [
    {
     "data": {
      "text/plain": [
       "array([32.50234527, 53.42680403, 61.53035803, 47.47563963, 59.81320787,\n",
       "       55.14218841, 52.21179669, 39.29956669, 48.10504169, 52.55001444,\n",
       "       45.41973014, 54.35163488, 44.1640495 , 58.16847072])"
      ]
     },
     "execution_count": 8,
     "metadata": {},
     "output_type": "execute_result"
    }
   ],
   "execution_count": 8
  },
  {
   "metadata": {},
   "cell_type": "markdown",
   "source": "- Target (Price):",
   "id": "266b68c428ba4966"
  },
  {
   "metadata": {
    "ExecuteTime": {
     "end_time": "2024-10-25T07:58:56.518942Z",
     "start_time": "2024-10-25T07:58:56.512231Z"
    }
   },
   "cell_type": "code",
   "source": "y",
   "id": "8987b665b1639aff",
   "outputs": [
    {
     "data": {
      "text/plain": [
       "array([31.70700585, 68.77759598, 62.5623823 , 71.54663223, 87.23092513,\n",
       "       78.21151827, 79.64197305, 59.17148932, 75.3312423 , 71.30087989,\n",
       "       55.16567715, 82.47884676, 62.00892325, 75.39287043])"
      ]
     },
     "execution_count": 9,
     "metadata": {},
     "output_type": "execute_result"
    }
   ],
   "execution_count": 9
  },
  {
   "metadata": {},
   "cell_type": "markdown",
   "source": "3. Mean Squared Error (Performance Measure):",
   "id": "63a088cf6704eafd"
  },
  {
   "metadata": {
    "ExecuteTime": {
     "end_time": "2024-10-25T07:58:59.040793Z",
     "start_time": "2024-10-25T07:58:59.036329Z"
    }
   },
   "cell_type": "code",
   "source": [
    "def mean_squared_error(y_true, y_pred):\n",
    "    return np.sum((y_true - y_pred) ** 2) / len(y_true)"
   ],
   "id": "ac56d7c0c8320f70",
   "outputs": [],
   "execution_count": 10
  },
  {
   "metadata": {},
   "cell_type": "markdown",
   "source": "4. Graident Descent (Learning Algorithm):",
   "id": "12c6003eef1f4b3e"
  },
  {
   "metadata": {
    "ExecuteTime": {
     "end_time": "2024-10-25T08:00:15.657918Z",
     "start_time": "2024-10-25T08:00:15.651358Z"
    }
   },
   "cell_type": "code",
   "source": [
    "def gradient_descent(x, y, w, b, learning_rate=0.0001):\n",
    "    n = len(y)\n",
    "    y_pred = w * x + b\n",
    "\n",
    "    dw = (-2/n) * np.sum(x * (y - y_pred))\n",
    "    db = (-2/n) * np.sum((y - y_pred))\n",
    "\n",
    "    w -= learning_rate * dw\n",
    "    b -= learning_rate * db\n",
    "\n",
    "    return w, b"
   ],
   "id": "adf2ec7ff5866619",
   "outputs": [],
   "execution_count": 11
  },
  {
   "metadata": {},
   "cell_type": "markdown",
   "source": "5. Initialize weight and bias with random values:",
   "id": "143e9349e7ccba62"
  },
  {
   "metadata": {
    "ExecuteTime": {
     "end_time": "2024-10-25T08:01:53.080143Z",
     "start_time": "2024-10-25T08:01:53.035754Z"
    }
   },
   "cell_type": "code",
   "source": [
    "w = np.random.rand()\n",
    "b = np.random.rand()"
   ],
   "id": "8147e1ee556a3fec",
   "outputs": [],
   "execution_count": 12
  },
  {
   "metadata": {},
   "cell_type": "markdown",
   "source": "- Weight:",
   "id": "71d05ecb69fbff98"
  },
  {
   "metadata": {
    "ExecuteTime": {
     "end_time": "2024-10-25T08:02:05.202235Z",
     "start_time": "2024-10-25T08:02:05.150194Z"
    }
   },
   "cell_type": "code",
   "source": "w",
   "id": "4cbce223fa859da8",
   "outputs": [
    {
     "data": {
      "text/plain": [
       "0.82417241680966"
      ]
     },
     "execution_count": 13,
     "metadata": {},
     "output_type": "execute_result"
    }
   ],
   "execution_count": 13
  },
  {
   "metadata": {},
   "cell_type": "markdown",
   "source": "- Bias:",
   "id": "99494905b01c4d7c"
  },
  {
   "metadata": {
    "ExecuteTime": {
     "end_time": "2024-10-25T08:02:30.617642Z",
     "start_time": "2024-10-25T08:02:30.608609Z"
    }
   },
   "cell_type": "code",
   "source": "b",
   "id": "fb4f064e66d1a38b",
   "outputs": [
    {
     "data": {
      "text/plain": [
       "0.5352064829407525"
      ]
     },
     "execution_count": 14,
     "metadata": {},
     "output_type": "execute_result"
    }
   ],
   "execution_count": 14
  },
  {
   "metadata": {},
   "cell_type": "markdown",
   "source": "6. Training the linear regression model with 10 epochs:",
   "id": "1459102239fdd7da"
  },
  {
   "metadata": {
    "ExecuteTime": {
     "end_time": "2024-10-25T08:03:37.778702Z",
     "start_time": "2024-10-25T08:03:37.745897Z"
    }
   },
   "cell_type": "code",
   "source": [
    "for epoch in range(10):\n",
    "    y_pred = w * x + b\n",
    "    error = mean_squared_error(y, y_pred)\n",
    "    print(f\"Epoch {epoch+1}: MSE = {error:.4f}\")\n",
    "    w, b = gradient_descent(x, y, w, b)"
   ],
   "id": "a6c8bae1f030829f",
   "outputs": [
    {
     "name": "stdout",
     "output_type": "stream",
     "text": [
      "Epoch 1: MSE = 799.7108\n",
      "Epoch 2: MSE = 243.1785\n",
      "Epoch 3: MSE = 114.0353\n",
      "Epoch 4: MSE = 84.0676\n",
      "Epoch 5: MSE = 77.1136\n",
      "Epoch 6: MSE = 75.5000\n",
      "Epoch 7: MSE = 75.1255\n",
      "Epoch 8: MSE = 75.0386\n",
      "Epoch 9: MSE = 75.0185\n",
      "Epoch 10: MSE = 75.0138\n"
     ]
    }
   ],
   "execution_count": 15
  },
  {
   "metadata": {},
   "cell_type": "markdown",
   "source": "7. Plotting the line of best fit:",
   "id": "8e053a09f2b60082"
  },
  {
   "metadata": {
    "ExecuteTime": {
     "end_time": "2024-10-25T08:04:27.872372Z",
     "start_time": "2024-10-25T08:04:27.067183Z"
    }
   },
   "cell_type": "code",
   "source": [
    "plt.scatter(x, y, color=\"blue\", label=\"Data\")\n",
    "plt.plot(x, w * x + b, color=\"red\", label=\"Line of best fit\")\n",
    "plt.xlabel(\"Office Size (sq. ft.)\")\n",
    "plt.ylabel(\"Office Price\")\n",
    "plt.title(\"A graph of Office Size in sq. ft. against Office Price\")\n",
    "plt.legend()\n",
    "plt.show()"
   ],
   "id": "7e1922f6099e3e5c",
   "outputs": [
    {
     "data": {
      "text/plain": [
       "<Figure size 640x480 with 1 Axes>"
      ],
      "image/png": "[encoded data removed]"
     },
     "metadata": {},
     "output_type": "display_data"
    }
   ],
   "execution_count": 16
  },
  {
   "metadata": {},
   "cell_type": "markdown",
   "source": "8. Predicting the office price when the size in sq. ft. is 100:",
   "id": "b91e2d5d8332f799"
  },
  {
   "metadata": {
    "ExecuteTime": {
     "end_time": "2024-10-25T08:05:17.006106Z",
     "start_time": "2024-10-25T08:05:17.000611Z"
    }
   },
   "cell_type": "code",
   "source": [
    "# What will the office price be when the size is 100 sq. ft?\n",
    "size_100_pred = w * 100 + b\n",
    "print(f\"For office size 100 sq. ft. the price will be: {size_100_pred:.4f}\")"
   ],
   "id": "bc44a340c39265e7",
   "outputs": [
    {
     "name": "stdout",
     "output_type": "stream",
     "text": [
      "For office size 100 sq. ft. the price will be: 135.7993\n"
     ]
    }
   ],
   "execution_count": 17
  }
 ],
 "metadata": {
  "kernelspec": {
   "display_name": "Python 3",
   "language": "python",
   "name": "python3"
  },
  "language_info": {
   "codemirror_mode": {
    "name": "ipython",
    "version": 2
   },
   "file_extension": ".py",
   "mimetype": "text/x-python",
   "name": "python",
   "nbconvert_exporter": "python",
   "pygments_lexer": "ipython2",
   "version": "2.7.6"
  }
 },
 "nbformat": 4,
 "nbformat_minor": 5
}
